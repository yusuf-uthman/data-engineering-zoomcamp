{
 "cells": [
  {
   "cell_type": "code",
   "execution_count": 1,
   "id": "3307b886",
   "metadata": {},
   "outputs": [
    {
     "name": "stderr",
     "output_type": "stream",
     "text": [
      "22/03/03 14:43:22 WARN Utils: Your hostname, UTHMAN-PC resolves to a loopback address: 127.0.1.1; using 192.168.83.66 instead (on interface eth0)\n",
      "22/03/03 14:43:22 WARN Utils: Set SPARK_LOCAL_IP if you need to bind to another address\n",
      "WARNING: An illegal reflective access operation has occurred\n",
      "WARNING: Illegal reflective access by org.apache.spark.unsafe.Platform (file:/home/yusufuthman57/bin/spark-3.0.3-bin-hadoop3.2/jars/spark-unsafe_2.12-3.0.3.jar) to constructor java.nio.DirectByteBuffer(long,int)\n",
      "WARNING: Please consider reporting this to the maintainers of org.apache.spark.unsafe.Platform\n",
      "WARNING: Use --illegal-access=warn to enable warnings of further illegal reflective access operations\n",
      "WARNING: All illegal access operations will be denied in a future release\n",
      "22/03/03 14:43:33 WARN NativeCodeLoader: Unable to load native-hadoop library for your platform... using builtin-java classes where applicable\n",
      "Using Spark's default log4j profile: org/apache/spark/log4j-defaults.properties\n",
      "Setting default log level to \"WARN\".\n",
      "To adjust logging level use sc.setLogLevel(newLevel). For SparkR, use setLogLevel(newLevel).\n",
      "22/03/03 14:43:34 WARN Utils: Service 'SparkUI' could not bind on port 4040. Attempting port 4041.\n",
      "22/03/03 14:43:34 WARN Utils: Service 'SparkUI' could not bind on port 4041. Attempting port 4042.\n",
      "22/03/03 14:43:34 WARN Utils: Service 'SparkUI' could not bind on port 4042. Attempting port 4043.\n"
     ]
    }
   ],
   "source": [
    "import pyspark\n",
    "from pyspark.sql import SparkSession\n",
    "\n",
    "spark = SparkSession.builder \\\n",
    "    .master(\"local[*]\") \\\n",
    "    .appName('test') \\\n",
    "    .getOrCreate()"
   ]
  },
  {
   "cell_type": "code",
   "execution_count": 2,
   "id": "1ee1eb1d",
   "metadata": {},
   "outputs": [],
   "source": [
    "df_green = spark.read.parquet('data/pq/green/*/*')"
   ]
  },
  {
   "cell_type": "code",
   "execution_count": 3,
   "id": "0ca5ee99",
   "metadata": {},
   "outputs": [
    {
     "name": "stdout",
     "output_type": "stream",
     "text": [
      "+--------+--------------------+---------------------+------------------+----------+------------+------------+---------------+-------------+-----------+-----+-------+----------+------------+---------+---------------------+------------+------------+---------+--------------------+\n",
      "|VendorID|lpep_pickup_datetime|lpep_dropoff_datetime|store_and_fwd_flag|RatecodeID|PULocationID|DOLocationID|passenger_count|trip_distance|fare_amount|extra|mta_tax|tip_amount|tolls_amount|ehail_fee|improvement_surcharge|total_amount|payment_type|trip_type|congestion_surcharge|\n",
      "+--------+--------------------+---------------------+------------------+----------+------------+------------+---------------+-------------+-----------+-----+-------+----------+------------+---------+---------------------+------------+------------+---------+--------------------+\n",
      "|       2| 2020-01-17 10:04:11|  2020-01-17 10:22:53|                 N|         1|          74|         263|              1|         2.36|       13.0|  0.0|    0.5|       1.0|         0.0|     null|                  0.3|       17.55|           1|        1|                2.75|\n",
      "|    null| 2020-01-24 18:25:00|  2020-01-24 18:32:00|              null|      null|         228|          14|           null|         0.82|       12.7| 2.75|    0.0|       0.0|         0.0|     null|                  0.3|       15.75|        null|     null|                null|\n",
      "|       2| 2020-01-21 20:58:50|  2020-01-21 21:11:54|                 N|         1|         255|          80|              1|         1.48|        9.5|  0.5|    0.5|      2.16|         0.0|     null|                  0.3|       12.96|           1|        1|                 0.0|\n",
      "|       2| 2020-01-16 19:29:00|  2020-01-16 19:43:52|                 N|         1|          75|         236|              2|         1.84|        7.5|  1.0|    0.5|       0.0|         0.0|     null|                  0.3|       12.05|           2|        1|                2.75|\n",
      "|       2| 2020-01-07 10:51:33|  2020-01-07 10:59:57|                 N|         1|          41|         238|              1|         1.87|        8.5|  0.0|    0.5|      3.01|         0.0|     null|                  0.3|       15.06|           1|        1|                2.75|\n",
      "|    null| 2020-01-02 16:04:00|  2020-01-02 16:27:00|              null|      null|          33|         157|           null|         7.33|      30.55| 2.75|    0.5|       0.0|         0.0|     null|                  0.3|        34.1|        null|     null|                null|\n",
      "|       2| 2020-01-28 15:12:59|  2020-01-28 15:21:36|                 N|         1|          71|          91|              1|          1.4|        7.5|  0.0|    0.5|       0.0|         0.0|     null|                  0.3|         8.3|           1|        1|                 0.0|\n",
      "|       2| 2020-01-24 15:17:38|  2020-01-24 15:21:36|                 N|         1|           7|           7|              1|         0.73|        5.0|  0.0|    0.5|      1.16|         0.0|     null|                  0.3|        6.96|           1|        1|                 0.0|\n",
      "|       2| 2020-01-22 10:25:52|  2020-01-22 10:59:12|                 N|         1|          65|         186|              1|         7.15|       27.5|  0.0|    0.5|      9.32|         0.0|     null|                  0.3|       40.37|           1|        1|                2.75|\n",
      "|       1| 2020-01-15 10:14:56|  2020-01-15 10:37:25|                 N|         1|          52|         113|              1|          4.7|       18.0| 2.75|    0.5|       4.3|         0.0|     null|                  0.3|       25.85|           1|        1|                2.75|\n",
      "|       2| 2020-01-16 13:43:20|  2020-01-16 13:55:12|                 N|         1|          82|          95|              3|         2.04|       10.0|  0.0|    0.5|       0.0|         0.0|     null|                  0.3|        10.8|           2|        1|                 0.0|\n",
      "|       2| 2020-01-03 18:56:33|  2020-01-03 19:21:01|                 N|         1|         129|         146|              1|         3.25|       17.5|  1.0|    0.5|       0.0|         0.0|     null|                  0.3|        19.3|           2|        1|                 0.0|\n",
      "|       2| 2020-01-09 11:07:32|  2020-01-09 11:13:46|                 N|         1|          41|          24|              1|         1.01|        6.5|  0.0|    0.5|      1.46|         0.0|     null|                  0.3|        8.76|           1|        1|                 0.0|\n",
      "|    null| 2020-01-02 10:12:00|  2020-01-02 10:49:00|              null|      null|          72|         228|           null|         7.91|      21.22|  0.0|    0.5|       0.0|         0.0|     null|                  0.3|       22.02|        null|     null|                null|\n",
      "|       2| 2020-01-09 19:33:12|  2020-01-09 19:49:27|                 N|         1|          82|          36|              1|         5.36|       18.0|  1.0|    0.5|       0.0|         0.0|     null|                  0.3|        19.8|           2|        1|                 0.0|\n",
      "|       2| 2020-01-08 11:29:03|  2020-01-08 11:29:07|                 N|         2|          97|          97|              1|          0.0|       52.0|  0.0|    0.5|       0.0|         0.0|     null|                  0.3|        52.8|           2|        1|                 0.0|\n",
      "|       2| 2020-01-08 08:07:19|  2020-01-08 08:09:11|                 N|         1|          42|          42|              1|         0.34|        3.5|  0.0|    0.5|       0.0|         0.0|     null|                  0.3|         4.3|           1|        1|                 0.0|\n",
      "|       2| 2020-01-17 13:48:29|  2020-01-17 14:02:53|                 N|         1|         244|         239|              1|         5.53|       18.0|  0.0|    0.5|      5.39|         0.0|     null|                  0.3|       26.94|           1|        1|                2.75|\n",
      "|       2| 2020-01-18 21:57:41|  2020-01-18 22:03:59|                 N|         1|           7|         146|              1|          0.0|        5.5|  0.5|    0.5|      2.04|         0.0|     null|                  0.3|        8.84|           1|        1|                 0.0|\n",
      "|       2| 2020-01-11 19:26:09|  2020-01-11 19:35:34|                 N|         1|           7|         223|              1|         1.49|        8.0|  0.0|    0.5|       0.0|         0.0|     null|                  0.3|         8.8|           2|        1|                 0.0|\n",
      "+--------+--------------------+---------------------+------------------+----------+------------+------------+---------------+-------------+-----------+-----+-------+----------+------------+---------+---------------------+------------+------------+---------+--------------------+\n",
      "only showing top 20 rows\n",
      "\n"
     ]
    }
   ],
   "source": [
    "df_green.show()"
   ]
  },
  {
   "cell_type": "code",
   "execution_count": 4,
   "id": "649bb4da",
   "metadata": {},
   "outputs": [],
   "source": [
    "df_green = df_green \\\n",
    "    .withColumnRenamed('lpep_pickup_datetime', 'pickup_datetime') \\\n",
    "    .withColumnRenamed('lpep_dropoff_datetime', 'dropoff_datetime')"
   ]
  },
  {
   "cell_type": "code",
   "execution_count": 5,
   "id": "90cd6845",
   "metadata": {},
   "outputs": [],
   "source": [
    "df_yellow = spark.read.parquet('data/pq/yellow/*/*')"
   ]
  },
  {
   "cell_type": "code",
   "execution_count": 6,
   "id": "88822efd",
   "metadata": {},
   "outputs": [],
   "source": [
    "df_yellow = df_yellow \\\n",
    "    .withColumnRenamed('tpep_pickup_datetime', 'pickup_datetime') \\\n",
    "    .withColumnRenamed('tpep_dropoff_datetime', 'dropoff_datetime')"
   ]
  },
  {
   "cell_type": "code",
   "execution_count": 7,
   "id": "610167a2",
   "metadata": {},
   "outputs": [],
   "source": [
    "common_colums = []\n",
    "\n",
    "yellow_columns = set(df_yellow.columns)\n",
    "\n",
    "for col in df_green.columns:\n",
    "    if col in yellow_columns:\n",
    "        common_colums.append(col)"
   ]
  },
  {
   "cell_type": "code",
   "execution_count": 8,
   "id": "e1091c38",
   "metadata": {},
   "outputs": [
    {
     "data": {
      "text/plain": [
       "['VendorID',\n",
       " 'pickup_datetime',\n",
       " 'dropoff_datetime',\n",
       " 'store_and_fwd_flag',\n",
       " 'RatecodeID',\n",
       " 'PULocationID',\n",
       " 'DOLocationID',\n",
       " 'passenger_count',\n",
       " 'trip_distance',\n",
       " 'fare_amount',\n",
       " 'extra',\n",
       " 'mta_tax',\n",
       " 'tip_amount',\n",
       " 'tolls_amount',\n",
       " 'improvement_surcharge',\n",
       " 'total_amount',\n",
       " 'payment_type',\n",
       " 'congestion_surcharge']"
      ]
     },
     "execution_count": 8,
     "metadata": {},
     "output_type": "execute_result"
    }
   ],
   "source": [
    "common_colums"
   ]
  },
  {
   "cell_type": "code",
   "execution_count": 9,
   "id": "839d773f",
   "metadata": {},
   "outputs": [],
   "source": [
    "from pyspark.sql import functions as F"
   ]
  },
  {
   "cell_type": "code",
   "execution_count": 10,
   "id": "2498810a",
   "metadata": {},
   "outputs": [],
   "source": [
    "df_green_sel = df_green \\\n",
    "    .select(common_colums) \\\n",
    "    .withColumn('service_type', F.lit('green'))"
   ]
  },
  {
   "cell_type": "code",
   "execution_count": 14,
   "id": "19032efc",
   "metadata": {},
   "outputs": [],
   "source": [
    "df_yellow_sel = df_yellow \\\n",
    "    .select(common_colums) \\\n",
    "    .withColumn('service_type', F.lit('yellow'))"
   ]
  },
  {
   "cell_type": "code",
   "execution_count": 15,
   "id": "f5b0f3d1",
   "metadata": {},
   "outputs": [],
   "source": [
    "df_trips_data = df_green_sel.unionAll(df_yellow_sel)"
   ]
  },
  {
   "cell_type": "code",
   "execution_count": 16,
   "id": "1bed8b33",
   "metadata": {},
   "outputs": [
    {
     "name": "stderr",
     "output_type": "stream",
     "text": [
      "                                                                                \r"
     ]
    },
    {
     "name": "stdout",
     "output_type": "stream",
     "text": [
      "+------------+--------+\n",
      "|service_type|   count|\n",
      "+------------+--------+\n",
      "|       green| 2304517|\n",
      "|      yellow|37889253|\n",
      "+------------+--------+\n",
      "\n"
     ]
    }
   ],
   "source": [
    "df_trips_data.groupBy('service_type').count().show()"
   ]
  },
  {
   "cell_type": "code",
   "execution_count": 17,
   "id": "28cc8fa3",
   "metadata": {},
   "outputs": [
    {
     "data": {
      "text/plain": [
       "['VendorID',\n",
       " 'pickup_datetime',\n",
       " 'dropoff_datetime',\n",
       " 'store_and_fwd_flag',\n",
       " 'RatecodeID',\n",
       " 'PULocationID',\n",
       " 'DOLocationID',\n",
       " 'passenger_count',\n",
       " 'trip_distance',\n",
       " 'fare_amount',\n",
       " 'extra',\n",
       " 'mta_tax',\n",
       " 'tip_amount',\n",
       " 'tolls_amount',\n",
       " 'improvement_surcharge',\n",
       " 'total_amount',\n",
       " 'payment_type',\n",
       " 'congestion_surcharge',\n",
       " 'service_type']"
      ]
     },
     "execution_count": 17,
     "metadata": {},
     "output_type": "execute_result"
    }
   ],
   "source": [
    "df_trips_data.columns"
   ]
  },
  {
   "cell_type": "code",
   "execution_count": 18,
   "id": "36e90cbc",
   "metadata": {},
   "outputs": [],
   "source": [
    "df_trips_data.registerTempTable('trips_data')"
   ]
  },
  {
   "cell_type": "code",
   "execution_count": 19,
   "id": "d0e01bf1",
   "metadata": {},
   "outputs": [
    {
     "name": "stderr",
     "output_type": "stream",
     "text": [
      "                                                                                \r"
     ]
    },
    {
     "name": "stdout",
     "output_type": "stream",
     "text": [
      "+------------+--------+\n",
      "|service_type|count(1)|\n",
      "+------------+--------+\n",
      "|       green| 2304517|\n",
      "|      yellow|37889253|\n",
      "+------------+--------+\n",
      "\n"
     ]
    }
   ],
   "source": [
    "spark.sql(\"\"\"\n",
    "SELECT\n",
    "    service_type,\n",
    "    count(1)\n",
    "FROM\n",
    "    trips_data\n",
    "GROUP BY \n",
    "    service_type\n",
    "\"\"\").show()"
   ]
  },
  {
   "cell_type": "code",
   "execution_count": 20,
   "id": "b2ee7038",
   "metadata": {},
   "outputs": [],
   "source": [
    "df_result = spark.sql(\"\"\"\n",
    "SELECT \n",
    "    -- Reveneue grouping \n",
    "    PULocationID AS revenue_zone,\n",
    "    date_trunc('month', pickup_datetime) AS revenue_month, \n",
    "    service_type, \n",
    "\n",
    "    -- Revenue calculation \n",
    "    SUM(fare_amount) AS revenue_monthly_fare,\n",
    "    SUM(extra) AS revenue_monthly_extra,\n",
    "    SUM(mta_tax) AS revenue_monthly_mta_tax,\n",
    "    SUM(tip_amount) AS revenue_monthly_tip_amount,\n",
    "    SUM(tolls_amount) AS revenue_monthly_tolls_amount,\n",
    "    SUM(improvement_surcharge) AS revenue_monthly_improvement_surcharge,\n",
    "    SUM(total_amount) AS revenue_monthly_total_amount,\n",
    "    SUM(congestion_surcharge) AS revenue_monthly_congestion_surcharge,\n",
    "\n",
    "    -- Additional calculations\n",
    "    AVG(passenger_count) AS avg_montly_passenger_count,\n",
    "    AVG(trip_distance) AS avg_montly_trip_distance\n",
    "FROM\n",
    "    trips_data\n",
    "GROUP BY\n",
    "    1, 2, 3\n",
    "\"\"\")"
   ]
  },
  {
   "cell_type": "code",
   "execution_count": 21,
   "id": "f67eeb92",
   "metadata": {},
   "outputs": [
    {
     "name": "stderr",
     "output_type": "stream",
     "text": [
      "22/03/03 16:56:52 WARN HeartbeatReceiver: Removing executor driver with no recent heartbeats: 1643117 ms exceeds timeout 120000 ms\n",
      "22/03/03 16:56:52 WARN SparkContext: Killing executors is not supported by current scheduler.\n"
     ]
    }
   ],
   "source": [
    "df_result.coalesce(1).write.parquet('data/report/revenue/', mode='overwrite')"
   ]
  },
  {
   "cell_type": "code",
   "execution_count": null,
   "id": "f56a885d",
   "metadata": {},
   "outputs": [],
   "source": []
  }
 ],
 "metadata": {
  "kernelspec": {
   "display_name": "Python 3 (ipykernel)",
   "language": "python",
   "name": "python3"
  },
  "language_info": {
   "codemirror_mode": {
    "name": "ipython",
    "version": 3
   },
   "file_extension": ".py",
   "mimetype": "text/x-python",
   "name": "python",
   "nbconvert_exporter": "python",
   "pygments_lexer": "ipython3",
   "version": "3.9.7"
  }
 },
 "nbformat": 4,
 "nbformat_minor": 5
}
